{
 "cells": [
  {
   "cell_type": "code",
   "execution_count": 51,
   "id": "f2ab9dd3",
   "metadata": {},
   "outputs": [],
   "source": [
    "#Decision Tree Model\n",
    "import pandas as pd\n",
    "from sklearn.preprocessing import LabelEncoder\n",
    "from sklearn import tree\n",
    "model=tree.DecisionTreeClassifier()\n",
    "df=pd.read_csv(r\"C:\\Users\\Imran\\OneDrive\\Desktop\\new dataset\\MergedDataset.csv\")\n",
    "le_Season=LabelEncoder()\n",
    "le_Soil=LabelEncoder()\n",
    "le_Name=LabelEncoder()\n",
    "df[\"Season_n\"]=le_Season.fit_transform(df[\"Season\"])\n",
    "df[\"Name_n\"]=le_Name.fit_transform(df[\"Name\"])\n",
    "df[\"Soil_n\"]=le_Soil.fit_transform(df[\"Soil\"])\n",
    "inputs=df.drop([\"Name_n\",\"Name\",\"Season\",\"Soil\"],axis=\"columns\")\n",
    "target=df[\"Name_n\"]\n"
   ]
  },
  {
   "cell_type": "code",
   "execution_count": 52,
   "id": "29ea4228",
   "metadata": {},
   "outputs": [],
   "source": [
    "from sklearn.tree import DecisionTreeClassifier\n",
    "model=DecisionTreeClassifier(criterion=\"gini\",random_state=0)\n"
   ]
  },
  {
   "cell_type": "code",
   "execution_count": 53,
   "id": "86489ca4",
   "metadata": {},
   "outputs": [
    {
     "data": {
      "text/plain": [
       "DecisionTreeClassifier(random_state=0)"
      ]
     },
     "execution_count": 53,
     "metadata": {},
     "output_type": "execute_result"
    }
   ],
   "source": [
    "from sklearn.model_selection import train_test_split\n",
    "inputs_train,inputs_test,target_train,target_test=train_test_split(inputs,target,test_size=0.2)\n",
    "model.fit(inputs_train,target_train)\n",
    "\n"
   ]
  },
  {
   "cell_type": "code",
   "execution_count": 55,
   "id": "6f41d8eb",
   "metadata": {},
   "outputs": [
    {
     "name": "stdout",
     "output_type": "stream",
     "text": [
      "Enter minimum temperature :20\n",
      "Enter maximum temperature :25\n",
      "Enter minimum humidity :70\n",
      "Enter maximum humidity :80\n"
     ]
    }
   ],
   "source": [
    "MinTemp=int(input(\"Enter minimum temperature :\"))\n",
    "MaxTemp=int(input(\"Enter maximum temperature :\"))\n",
    "MinHumid=int(input(\"Enter minimum humidity :\"))\n",
    "MaxHumid=int(input(\"Enter maximum humidity :\"))\n"
   ]
  },
  {
   "cell_type": "code",
   "execution_count": 56,
   "id": "12f4f04e",
   "metadata": {},
   "outputs": [
    {
     "name": "stdout",
     "output_type": "stream",
     "text": [
      "Enter the season:common\n"
     ]
    }
   ],
   "source": [
    "Season=input(\"Enter the season:\")\n",
    "Season=Season.lower()\n",
    "s=0\n",
    "s1=[0,1,2,3,4,5,6,7]\n",
    "s2=[\"autumn\",\"common\",\"fall\",\"monsoon\",\"rainy\",\"spring\",\"summer\",\"winter\"]\n",
    "dict_seas=dict(zip(s1,s2))\n",
    "for k,v in dict_seas.items():\n",
    "    if v==Season:\n",
    "        s=k\n",
    "    else:\n",
    "        s=8\n",
    "\n"
   ]
  },
  {
   "cell_type": "code",
   "execution_count": 57,
   "id": "9374663d",
   "metadata": {},
   "outputs": [
    {
     "name": "stdout",
     "output_type": "stream",
     "text": [
      "Enter the soil:black\n"
     ]
    }
   ],
   "source": [
    "Soil=input(\"Enter the soil:\")\n",
    "Soil=Soil.lower()\n",
    "st=0\n",
    "l1=[0,1,2,3,4,5,6,7,8,9,10,11,12,13,14,15]\n",
    "l2=[\"black\",\"blue\",\"brown\",\"dark black\",\"dark brown\",\"light black\",\"light brown\",\"light grey\",\"light red\",\"light yellow\",\"loamy\"\n",
    "   ,\"red\",\"reddish\",\"reddish brown\",\"sandy\",\"yellow\"]\n",
    "if Soil in l2:\n",
    "    st=l1.index(l2.index(Soil))\n",
    "else:\n",
    "    st=16\n"
   ]
  },
  {
   "cell_type": "code",
   "execution_count": 58,
   "id": "d90fe317",
   "metadata": {},
   "outputs": [
    {
     "name": "stdout",
     "output_type": "stream",
     "text": [
      "Vegetable\n"
     ]
    }
   ],
   "source": [
    "k=model.predict([[MinTemp,MaxTemp,MinHumid,MaxHumid,1,1]])\n",
    "k1=[0,1,2,3]\n",
    "k2=[\"Flower\",\"Fruit\",\"Herb\",\"Vegetable\"]\n",
    "if k in k1:\n",
    "    print(k2[k1.index(k)])\n",
    "else:\n",
    "    print(\"Enter Valid Inputs\")\n",
    "    print(k)"
   ]
  },
  {
   "cell_type": "code",
   "execution_count": 150,
   "id": "2a570747",
   "metadata": {},
   "outputs": [
    {
     "name": "stdout",
     "output_type": "stream",
     "text": [
      "Do you wish to continue: yes/no\n",
      "no\n",
      "Thank You for your time❤️\n"
     ]
    }
   ],
   "source": [
    "while(1):\n",
    "    print(\"Do you wish to continue: yes/no\")\n",
    "    y=input()\n",
    "    y=y.lower()\n",
    "    if y==\"yes\":\n",
    "        import pandas as pd\n",
    "        #Recomendation using name of the plant and displaying required conditions to grow that plant.\n",
    "        def recomendation_using_name(name,dataset):\n",
    "            name=name[0].upper()+name[1:].lower()\n",
    "            for i in range(len(dataset)):\n",
    "                if name==dataset.Name[i]:\n",
    "                    print(\"name: {}\\n season :{}\\n Minimum Temperature :{}^c\\n Maximum Temperature :{}^c\\n Minimum Humidity :{}%\\n Maximum Humidity :{}%\\n Soil :{}\"\n",
    "                 .format(name,dataset.Season[i],dataset.MinTemp[i],dataset.MaxTemp[i],dataset.Minhumid[i],dataset.Maxhumid[i],dataset.Soil[i]))\n",
    "                    break\n",
    "            else:\n",
    "                print(\"Try another plant 😊👍\")\n",
    "\n",
    "        #Recomendation using season and displaying all the possible growing plants in that particular season. \n",
    "        def plant_recomendation_using_S(season,dataset):\n",
    "            lis=[]\n",
    "            print(\"Choose one of the following plants to opt in:\")\n",
    "            for i in range(len(dataset)):\n",
    "                if season==dataset.Season[i]:\n",
    "                    lis.append(dataset.Name[i])\n",
    "                \n",
    "            \n",
    "            if len(lis)==0:\n",
    "                print(\"Invalid entry\")\n",
    "                    \n",
    "            else:\n",
    "                for i in lis:\n",
    "                    print(i)\n",
    "\n",
    "        #Classification Function using label,temperature,humidity,soil parameters and concluding with yes or no.\n",
    "        def plant_classification_using_LTHS(Label,Temperature,Humidity,soil,dataset):\n",
    "            Res=[]\n",
    "            print(Label)\n",
    "            for i in range(len(dataset)):\n",
    "                if(Label in dataset.Name[i]):\n",
    "                    Res.append(\"Y\")\n",
    "                    if Temperature>=int(dataset.MinTemp[i]) and Temperature<=int(dataset.MaxTemp[i]):\n",
    "                        Res.append(\"Y\")\n",
    "                        if  Humidity>=int(dataset.Minhumid[i]) and Humidity<=int(dataset.Maxhumid[i]):\n",
    "                            Res.append(\"Y\")\n",
    "                            if(soil==dataset.Soil[i]):\n",
    "                                Res.append(\"Y\")\n",
    "            #if any of the above cases fail then it will append \"N\"                           \n",
    "            else:\n",
    "                Res.append(\"N\")\n",
    "            #conditional based classification\n",
    "            if(Res.count(\"Y\")>=4):\n",
    "                print(\"Yes you can this {}.The temperature {}^c and humidity {}% are in the range.\".format(Label,Temperature,Humidity))\n",
    "\n",
    "            else:\n",
    "                print(\"No choose some other plant,the conditions you inputs are not the best to opt this {} plant.\".format(Label))\n",
    "\n",
    "\n",
    "        #Recomendation using Temperature and Humidity which is area specific plant recomendation\n",
    "        def plant_recomendation_using_TH(Temperature,Humidity,dataset):\n",
    "            for i in range(len(dataset)):\n",
    "                if Temperature>=dataset.MinTemp[i] and Temperature<=dataset.MaxTemp[i]:\n",
    "                    if Humidity>=dataset.Minhumid[i] and Humidity<=dataset.Maxhumid[i]:\n",
    "                        print(\"plant :{}\\t\\t\\t soil :{}\".format(dataset.Name[i],dataset.Soil[i]))\n",
    "\n",
    "\n",
    "\n",
    "        #classifying inputs based on user choice to call the respective functions for classification\n",
    "        def option_fun(c):\n",
    "            if str(c)==\"1\":\n",
    "                name=input(\"Enter Name of the plant:\")\n",
    "                recomendation_using_name(name,dataset)\n",
    "            elif str(c)==\"2\":\n",
    "                season=input(\"Enter Name of the season: \")\n",
    "                season=season.lower()\n",
    "                plant_recomendation_using_S(season,dataset)\n",
    "            elif str(c)==\"3\":\n",
    "                label=input(\"Enter the Plant Name: \")\n",
    "                Temperature=int(input(\"Enter the Average Temperature of your locality: \"))\n",
    "                Humidity=int(input(\"Enter the Average Humidity of your locality: \"))\n",
    "                soil=input(\"Enter the soil type do you check in: \")\n",
    "                soil=soil.lower()#case conversion of the soil to ease of searching in dataset.\n",
    "                Label=label[0].upper()+label[1::].lower()#string manipulation in accordance with name of dataset\n",
    "                #plant_classification function calling using following parameters\n",
    "                plant_classification_using_LTHS(Label,Temperature,Humidity,soil,dataset)\n",
    "            elif str(c)==\"4\":\n",
    "                Temperature=int(input(\"Enter the temperature of your locality: \"))\n",
    "                Humidity=int(input(\"Enter the humidity of your locality: \"))\n",
    "                plant_recomendation_using_TH(Temperature,Humidity,dataset)\n",
    "\n",
    "            else:\n",
    "                print(\"Enter a valid entry\")\n",
    "\n",
    "                \n",
    "        #asking for plant category like fruit,vegetable,herb,flower      \n",
    "        n=input(\"Type of plant:\")\n",
    "        n=n.lower() \n",
    "        #explaining the user about which type of classification are behind the options 1,2,3,4.\n",
    "        print(\"1:Recomendation using name and output is required conditions for that plant\")\n",
    "        print(\"2:Recomendation using season and output is ideal plants for that season\")\n",
    "        print(\"3:classification using name,temperature,humidity,soil and output is either yes or no\")\n",
    "        print(\"4:Recomendation using Temperature and Humidity,name and soil are outputs\")\n",
    "        c=input(\"choose one of the options (1/2/3/4): \")\n",
    "        \n",
    "        \n",
    "        #conditonal based dataset training\n",
    "        if n==\"herb\":\n",
    "            dataset=pd.read_csv(r\"C:\\Users\\Imran\\OneDrive\\Desktop\\new dataset\\HerbsDataset.csv\")\n",
    "            option_fun(c)\n",
    "        elif n==\"vegetable\":\n",
    "            dataset=pd.read_csv(r\"C:\\Users\\Imran\\OneDrive\\Desktop\\new dataset\\VegetablesDataset.csv\")\n",
    "            option_fun(c)\n",
    "        elif n==\"fruit\":\n",
    "            dataset=pd.read_csv(r\"C:\\Users\\Imran\\OneDrive\\Desktop\\new dataset\\FruitsDataset.csv\")\n",
    "            option_fun(c)\n",
    "        elif n==\"flower\":\n",
    "            dataset=pd.read_csv(r\"C:\\Users\\Imran\\OneDrive\\Desktop\\new dataset\\FlowersDataset.csv\")\n",
    "            option_fun(c)\n",
    "        else:\n",
    "            print(\"valid type of plant\")\n",
    "    else:\n",
    "        print(\"Thank You for your time❤️\")\n",
    "        break\n",
    "\n"
   ]
  },
  {
   "cell_type": "code",
   "execution_count": 59,
   "id": "37ad73cf",
   "metadata": {},
   "outputs": [
    {
     "data": {
      "text/plain": [
       "0.9980879541108987"
      ]
     },
     "execution_count": 59,
     "metadata": {},
     "output_type": "execute_result"
    }
   ],
   "source": [
    "model.score(inputs_train,target_train)\n"
   ]
  },
  {
   "cell_type": "code",
   "execution_count": 43,
   "id": "a4582eef",
   "metadata": {},
   "outputs": [
    {
     "data": {
      "text/html": [
       "<div>\n",
       "<style scoped>\n",
       "    .dataframe tbody tr th:only-of-type {\n",
       "        vertical-align: middle;\n",
       "    }\n",
       "\n",
       "    .dataframe tbody tr th {\n",
       "        vertical-align: top;\n",
       "    }\n",
       "\n",
       "    .dataframe thead th {\n",
       "        text-align: right;\n",
       "    }\n",
       "</style>\n",
       "<table border=\"1\" class=\"dataframe\">\n",
       "  <thead>\n",
       "    <tr style=\"text-align: right;\">\n",
       "      <th>col_0</th>\n",
       "      <th>0</th>\n",
       "      <th>1</th>\n",
       "      <th>2</th>\n",
       "      <th>3</th>\n",
       "    </tr>\n",
       "    <tr>\n",
       "      <th>Name_n</th>\n",
       "      <th></th>\n",
       "      <th></th>\n",
       "      <th></th>\n",
       "      <th></th>\n",
       "    </tr>\n",
       "  </thead>\n",
       "  <tbody>\n",
       "    <tr>\n",
       "      <th>0</th>\n",
       "      <td>49</td>\n",
       "      <td>10</td>\n",
       "      <td>10</td>\n",
       "      <td>17</td>\n",
       "    </tr>\n",
       "    <tr>\n",
       "      <th>1</th>\n",
       "      <td>12</td>\n",
       "      <td>84</td>\n",
       "      <td>13</td>\n",
       "      <td>36</td>\n",
       "    </tr>\n",
       "    <tr>\n",
       "      <th>2</th>\n",
       "      <td>12</td>\n",
       "      <td>11</td>\n",
       "      <td>57</td>\n",
       "      <td>4</td>\n",
       "    </tr>\n",
       "    <tr>\n",
       "      <th>3</th>\n",
       "      <td>20</td>\n",
       "      <td>17</td>\n",
       "      <td>15</td>\n",
       "      <td>157</td>\n",
       "    </tr>\n",
       "  </tbody>\n",
       "</table>\n",
       "</div>"
      ],
      "text/plain": [
       "col_0    0   1   2    3\n",
       "Name_n                 \n",
       "0       49  10  10   17\n",
       "1       12  84  13   36\n",
       "2       12  11  57    4\n",
       "3       20  17  15  157"
      ]
     },
     "execution_count": 43,
     "metadata": {},
     "output_type": "execute_result"
    }
   ],
   "source": [
    "# from sklearn.metrics import classification_report, confusion_matrix\n",
    "# print(confusion_matrix(target_train,target_test))\n",
    "# print(classification_report(target_train,target_test))\n",
    "import pandas as pd\n",
    "target_predict=model.predict(inputs_test)\n",
    "pd.crosstab(target_test,target_predict)"
   ]
  },
  {
   "cell_type": "code",
   "execution_count": 32,
   "id": "a4c8f8df",
   "metadata": {},
   "outputs": [],
   "source": [
    "from sklearn.metrics import confusion_matrix,accuracy_score"
   ]
  },
  {
   "cell_type": "code",
   "execution_count": 78,
   "id": "72841d59",
   "metadata": {},
   "outputs": [
    {
     "name": "stdout",
     "output_type": "stream",
     "text": [
      "0.7633587786259542\n"
     ]
    }
   ],
   "source": [
    "y_predict=model.predict(inputs_test)\n",
    "dt_accuracy=accuracy_score(target_test,y_predict)\n",
    "print(dt_accuracy)"
   ]
  },
  {
   "cell_type": "code",
   "execution_count": 34,
   "id": "e3531517",
   "metadata": {},
   "outputs": [
    {
     "data": {
      "text/html": [
       "<div>\n",
       "<style scoped>\n",
       "    .dataframe tbody tr th:only-of-type {\n",
       "        vertical-align: middle;\n",
       "    }\n",
       "\n",
       "    .dataframe tbody tr th {\n",
       "        vertical-align: top;\n",
       "    }\n",
       "\n",
       "    .dataframe thead th {\n",
       "        text-align: right;\n",
       "    }\n",
       "</style>\n",
       "<table border=\"1\" class=\"dataframe\">\n",
       "  <thead>\n",
       "    <tr style=\"text-align: right;\">\n",
       "      <th></th>\n",
       "      <th>MinTemp</th>\n",
       "      <th>MaxTemp</th>\n",
       "      <th>Minhumid</th>\n",
       "      <th>Maxhumid</th>\n",
       "      <th>Season_n</th>\n",
       "      <th>Soil_n</th>\n",
       "    </tr>\n",
       "  </thead>\n",
       "  <tbody>\n",
       "    <tr>\n",
       "      <th>174</th>\n",
       "      <td>21</td>\n",
       "      <td>24</td>\n",
       "      <td>90</td>\n",
       "      <td>95</td>\n",
       "      <td>6</td>\n",
       "      <td>2</td>\n",
       "    </tr>\n",
       "    <tr>\n",
       "      <th>107</th>\n",
       "      <td>10</td>\n",
       "      <td>27</td>\n",
       "      <td>50</td>\n",
       "      <td>60</td>\n",
       "      <td>7</td>\n",
       "      <td>0</td>\n",
       "    </tr>\n",
       "    <tr>\n",
       "      <th>82</th>\n",
       "      <td>28</td>\n",
       "      <td>38</td>\n",
       "      <td>65</td>\n",
       "      <td>75</td>\n",
       "      <td>6</td>\n",
       "      <td>0</td>\n",
       "    </tr>\n",
       "    <tr>\n",
       "      <th>255</th>\n",
       "      <td>21</td>\n",
       "      <td>24</td>\n",
       "      <td>90</td>\n",
       "      <td>95</td>\n",
       "      <td>6</td>\n",
       "      <td>0</td>\n",
       "    </tr>\n",
       "    <tr>\n",
       "      <th>85</th>\n",
       "      <td>28</td>\n",
       "      <td>38</td>\n",
       "      <td>70</td>\n",
       "      <td>75</td>\n",
       "      <td>6</td>\n",
       "      <td>5</td>\n",
       "    </tr>\n",
       "  </tbody>\n",
       "</table>\n",
       "</div>"
      ],
      "text/plain": [
       "     MinTemp  MaxTemp  Minhumid  Maxhumid  Season_n  Soil_n\n",
       "174       21       24        90        95         6       2\n",
       "107       10       27        50        60         7       0\n",
       "82        28       38        65        75         6       0\n",
       "255       21       24        90        95         6       0\n",
       "85        28       38        70        75         6       5"
      ]
     },
     "execution_count": 34,
     "metadata": {},
     "output_type": "execute_result"
    }
   ],
   "source": [
    "inputs_test.head()"
   ]
  },
  {
   "cell_type": "code",
   "execution_count": 35,
   "id": "87ed2cd8",
   "metadata": {},
   "outputs": [
    {
     "data": {
      "text/html": [
       "<div>\n",
       "<style scoped>\n",
       "    .dataframe tbody tr th:only-of-type {\n",
       "        vertical-align: middle;\n",
       "    }\n",
       "\n",
       "    .dataframe tbody tr th {\n",
       "        vertical-align: top;\n",
       "    }\n",
       "\n",
       "    .dataframe thead th {\n",
       "        text-align: right;\n",
       "    }\n",
       "</style>\n",
       "<table border=\"1\" class=\"dataframe\">\n",
       "  <thead>\n",
       "    <tr style=\"text-align: right;\">\n",
       "      <th>col_0</th>\n",
       "      <th>0</th>\n",
       "      <th>1</th>\n",
       "      <th>2</th>\n",
       "      <th>3</th>\n",
       "    </tr>\n",
       "    <tr>\n",
       "      <th>Name_n</th>\n",
       "      <th></th>\n",
       "      <th></th>\n",
       "      <th></th>\n",
       "      <th></th>\n",
       "    </tr>\n",
       "  </thead>\n",
       "  <tbody>\n",
       "    <tr>\n",
       "      <th>0</th>\n",
       "      <td>18</td>\n",
       "      <td>3</td>\n",
       "      <td>1</td>\n",
       "      <td>2</td>\n",
       "    </tr>\n",
       "    <tr>\n",
       "      <th>1</th>\n",
       "      <td>4</td>\n",
       "      <td>22</td>\n",
       "      <td>1</td>\n",
       "      <td>10</td>\n",
       "    </tr>\n",
       "    <tr>\n",
       "      <th>2</th>\n",
       "      <td>0</td>\n",
       "      <td>1</td>\n",
       "      <td>18</td>\n",
       "      <td>1</td>\n",
       "    </tr>\n",
       "    <tr>\n",
       "      <th>3</th>\n",
       "      <td>3</td>\n",
       "      <td>5</td>\n",
       "      <td>0</td>\n",
       "      <td>42</td>\n",
       "    </tr>\n",
       "  </tbody>\n",
       "</table>\n",
       "</div>"
      ],
      "text/plain": [
       "col_0    0   1   2   3\n",
       "Name_n                \n",
       "0       18   3   1   2\n",
       "1        4  22   1  10\n",
       "2        0   1  18   1\n",
       "3        3   5   0  42"
      ]
     },
     "execution_count": 35,
     "metadata": {},
     "output_type": "execute_result"
    }
   ],
   "source": [
    "pd.crosstab(target_test,y_predict)"
   ]
  },
  {
   "cell_type": "code",
   "execution_count": 36,
   "id": "f0b9dbb8",
   "metadata": {},
   "outputs": [
    {
     "name": "stdout",
     "output_type": "stream",
     "text": [
      "(655, 20) (655,)\n"
     ]
    }
   ],
   "source": [
    "# test classification dataset\n",
    "from sklearn.datasets import make_classification\n",
    "# define dataset\n",
    "df=pd.read_csv(r\"C:\\Users\\Imran\\OneDrive\\Desktop\\new dataset\\MergedDataset.csv\")\n",
    "X, y = make_classification(n_samples=655, n_features=20, n_informative=15, n_redundant=5, random_state=5)\n",
    "# summarize the dataset\n",
    "print(X.shape, y.shape)"
   ]
  },
  {
   "cell_type": "code",
   "execution_count": 37,
   "id": "a633e4f3",
   "metadata": {},
   "outputs": [
    {
     "name": "stdout",
     "output_type": "stream",
     "text": [
      "0.8244274809160306\n"
     ]
    }
   ],
   "source": [
    "from sklearn.ensemble import AdaBoostClassifier\n",
    "Adaboost=AdaBoostClassifier(DecisionTreeClassifier(criterion=\"entropy\",random_state=0))\n",
    "boostmodel=Adaboost.fit(inputs_train,target_train)\n",
    "y_pred=boostmodel.predict(inputs_test)\n",
    "predicitions=accuracy_score(target_test,y_pred)\n",
    "print(predicitions)"
   ]
  },
  {
   "cell_type": "code",
   "execution_count": 40,
   "id": "ce85585a",
   "metadata": {},
   "outputs": [
    {
     "name": "stdout",
     "output_type": "stream",
     "text": [
      "              precision    recall  f1-score   support\n",
      "\n",
      "           0       0.90      0.79      0.84        24\n",
      "           1       0.87      0.73      0.79        37\n",
      "           2       0.75      0.90      0.82        20\n",
      "           3       0.80      0.88      0.84        50\n",
      "\n",
      "    accuracy                           0.82       131\n",
      "   macro avg       0.83      0.83      0.82       131\n",
      "weighted avg       0.83      0.82      0.82       131\n",
      "\n"
     ]
    }
   ],
   "source": [
    "from sklearn.metrics import classification_report\n",
    "print(classification_report(target_test,y_pred))"
   ]
  },
  {
   "cell_type": "code",
   "execution_count": 39,
   "id": "b8765a5d",
   "metadata": {},
   "outputs": [
    {
     "name": "stdout",
     "output_type": "stream",
     "text": [
      "Accuracy: 0.886 (0.044)\n"
     ]
    }
   ],
   "source": [
    "# evaluate bagging algorithm for classification\n",
    "from numpy import mean\n",
    "from numpy import std\n",
    "from sklearn.datasets import make_classification\n",
    "from sklearn.model_selection import cross_val_score\n",
    "from sklearn.model_selection import RepeatedStratifiedKFold\n",
    "from sklearn.ensemble import BaggingClassifier\n",
    "\n",
    "# define dataset\n",
    "df=pd.read_csv(r\"C:\\Users\\Imran\\OneDrive\\Desktop\\new dataset\\MergedDataset.csv\")\n",
    "X, y = make_classification(n_samples=655, n_features=20,n_redundant=5, random_state=1)\n",
    "# define the model|\n",
    "bagmodel = BaggingClassifier(DecisionTreeClassifier())\n",
    "bagmodel.fit(inputs_train,target_train)\n",
    "\n",
    "# evaluate the model\n",
    "cv = RepeatedStratifiedKFold(n_splits=15, n_repeats=1, random_state=1)\n",
    "n_scores = cross_val_score(model, X, y, scoring='accuracy', cv=cv, n_jobs=-1, error_score='raise')\n",
    "# report performance\n",
    "print('Accuracy: %.3f (%.3f)' % (mean(n_scores), std(n_scores)))\n",
    "# y_pred=bagmodel.predict(inputs_test)\n",
    "# predictions=accuracy_score(target_test,y_pred)\n",
    "# print(predicitions)"
   ]
  },
  {
   "cell_type": "markdown",
   "id": "41270a15",
   "metadata": {},
   "source": [
    "# RANDOM FOREST"
   ]
  },
  {
   "cell_type": "code",
   "execution_count": 113,
   "id": "1b930bf1",
   "metadata": {},
   "outputs": [
    {
     "data": {
      "text/html": [
       "<div>\n",
       "<style scoped>\n",
       "    .dataframe tbody tr th:only-of-type {\n",
       "        vertical-align: middle;\n",
       "    }\n",
       "\n",
       "    .dataframe tbody tr th {\n",
       "        vertical-align: top;\n",
       "    }\n",
       "\n",
       "    .dataframe thead th {\n",
       "        text-align: right;\n",
       "    }\n",
       "</style>\n",
       "<table border=\"1\" class=\"dataframe\">\n",
       "  <thead>\n",
       "    <tr style=\"text-align: right;\">\n",
       "      <th></th>\n",
       "      <th>Name</th>\n",
       "      <th>Season</th>\n",
       "      <th>MinTemp</th>\n",
       "      <th>MaxTemp</th>\n",
       "      <th>Minhumid</th>\n",
       "      <th>Maxhumid</th>\n",
       "      <th>Soil</th>\n",
       "    </tr>\n",
       "  </thead>\n",
       "  <tbody>\n",
       "    <tr>\n",
       "      <th>0</th>\n",
       "      <td>Flower</td>\n",
       "      <td>spring</td>\n",
       "      <td>23</td>\n",
       "      <td>30</td>\n",
       "      <td>50</td>\n",
       "      <td>60</td>\n",
       "      <td>brown</td>\n",
       "    </tr>\n",
       "    <tr>\n",
       "      <th>1</th>\n",
       "      <td>Flower</td>\n",
       "      <td>summer</td>\n",
       "      <td>15</td>\n",
       "      <td>23</td>\n",
       "      <td>50</td>\n",
       "      <td>70</td>\n",
       "      <td>black</td>\n",
       "    </tr>\n",
       "    <tr>\n",
       "      <th>2</th>\n",
       "      <td>Flower</td>\n",
       "      <td>summer</td>\n",
       "      <td>7</td>\n",
       "      <td>10</td>\n",
       "      <td>40</td>\n",
       "      <td>60</td>\n",
       "      <td>light black</td>\n",
       "    </tr>\n",
       "    <tr>\n",
       "      <th>3</th>\n",
       "      <td>Flower</td>\n",
       "      <td>winter</td>\n",
       "      <td>7</td>\n",
       "      <td>10</td>\n",
       "      <td>60</td>\n",
       "      <td>70</td>\n",
       "      <td>black</td>\n",
       "    </tr>\n",
       "    <tr>\n",
       "      <th>4</th>\n",
       "      <td>Flower</td>\n",
       "      <td>winter</td>\n",
       "      <td>10</td>\n",
       "      <td>20</td>\n",
       "      <td>65</td>\n",
       "      <td>85</td>\n",
       "      <td>black</td>\n",
       "    </tr>\n",
       "  </tbody>\n",
       "</table>\n",
       "</div>"
      ],
      "text/plain": [
       "     Name  Season  MinTemp  MaxTemp  Minhumid  Maxhumid         Soil\n",
       "0  Flower  spring       23       30        50        60        brown\n",
       "1  Flower  summer       15       23        50        70        black\n",
       "2  Flower  summer        7       10        40        60  light black\n",
       "3  Flower  winter        7       10        60        70        black\n",
       "4  Flower  winter       10       20        65        85        black"
      ]
     },
     "execution_count": 113,
     "metadata": {},
     "output_type": "execute_result"
    }
   ],
   "source": [
    "import pandas as pd\n",
    "# data=pd.DataFrame({\n",
    "#     'sepal length':iris.data[:,0],\n",
    "#     'sepal width':iris.data[:,1],\n",
    "#     'petal length':iris.data[:,2],\n",
    "#     'petal width':iris.data[:,3],\n",
    "#     'species':iris.target\n",
    "# })\n",
    "# data.head()\n",
    "df=pd.read_csv(r\"C:\\Users\\Imran\\OneDrive\\Desktop\\new dataset\\MergedDataset.csv\")\n",
    "df.head()"
   ]
  },
  {
   "cell_type": "code",
   "execution_count": 114,
   "id": "f2d46c3c",
   "metadata": {},
   "outputs": [],
   "source": [
    "# Import train_test_split function\n",
    "from sklearn.model_selection import train_test_split\n",
    "le_Season=LabelEncoder()\n",
    "le_Soil=LabelEncoder()\n",
    "le_Name=LabelEncoder()\n",
    "df[\"Season_n\"]=le_Season.fit_transform(df[\"Season\"])\n",
    "df[\"Name_n\"]=le_Name.fit_transform(df[\"Name\"])\n",
    "df[\"Soil_n\"]=le_Soil.fit_transform(df[\"Soil\"])\n",
    "X=df.drop([\"Name_n\",\"Name\",\"Season\",\"Soil\"],axis=\"columns\")\n",
    "y=df[\"Name_n\"]\n",
    "# Split dataset into training set and test set\n",
    "X_train, X_test, y_train, y_test = train_test_split(X, y, test_size=0.2) # 70% training and 30% test"
   ]
  },
  {
   "cell_type": "code",
   "execution_count": 118,
   "id": "c0f94f03",
   "metadata": {},
   "outputs": [
    {
     "data": {
      "text/plain": [
       "0.994263862332696"
      ]
     },
     "execution_count": 118,
     "metadata": {},
     "output_type": "execute_result"
    }
   ],
   "source": [
    "from sklearn.ensemble import RandomForestClassifier\n",
    "\n",
    "#Create a Gaussian Classifier\n",
    "clf=RandomForestClassifier(n_estimators=100)\n",
    "\n",
    "#Train the model using the training sets y_pred=clf.predict(X_test)\n",
    "clf.fit(X_train,y_train)\n",
    "\n",
    "y_pred1=clf.predict(X_test)\n",
    "\n",
    "clf.score(X_train,y_train)"
   ]
  },
  {
   "cell_type": "code",
   "execution_count": 119,
   "id": "2fa1eec7",
   "metadata": {},
   "outputs": [
    {
     "name": "stdout",
     "output_type": "stream",
     "text": [
      "Accuracy: 0.816793893129771\n"
     ]
    }
   ],
   "source": [
    "#Import scikit-learn metrics module for accuracy calculation\n",
    "from sklearn import metrics\n",
    "# Model Accuracy, how often is the classifier correct?\n",
    "print(\"Accuracy:\",metrics.accuracy_score(y_test, y_pred1))"
   ]
  },
  {
   "cell_type": "markdown",
   "id": "53fe8c8d",
   "metadata": {},
   "source": [
    "# KNN "
   ]
  },
  {
   "cell_type": "code",
   "execution_count": 146,
   "id": "db739569",
   "metadata": {},
   "outputs": [
    {
     "data": {
      "text/plain": [
       "1.0"
      ]
     },
     "execution_count": 146,
     "metadata": {},
     "output_type": "execute_result"
    }
   ],
   "source": [
    "from sklearn.neighbors import KNeighborsClassifier\n",
    "from sklearn.model_selection import train_test_split\n",
    "from sklearn.datasets import load_iris\n",
    "import numpy as np\n",
    "import matplotlib.pyplot as plt\n",
    " \n",
    "irisData = load_iris()\n",
    "data=df.drop([\"Name_n\",\"Name\",\"Season\",\"Soil\"],axis=\"columns\")\n",
    "target=y=df[\"Name_n\"]\n",
    "# Create feature and target arrays\n",
    "X = irisData.data\n",
    "y = irisData.target\n",
    " \n",
    "# Split into training and test set\n",
    "X_train, X_test, y_train, y_test = train_test_split(\n",
    "             X, y, test_size = 0.2, random_state=42)\n",
    " \n",
    "neighbors = np.arange(1, 9)\n",
    "train_accuracy = np.empty(len(neighbors))\n",
    "test_accuracy = np.empty(len(neighbors))\n",
    " \n",
    "# Loop over K values\n",
    "for i, k in enumerate(neighbors):\n",
    "    knn = KNeighborsClassifier(n_neighbors=k)\n",
    "    knn.fit(X_train, y_train)\n",
    "     \n",
    "    # Compute training and test data accuracy\n",
    "    train_accuracy[i] = knn.score(X_train, y_train)\n",
    "    test_accuracy[i] = knn.score(X_test, y_test)\n",
    " \n",
    "# # Generate plot\n",
    "# plt.plot(neighbors, test_accuracy, label = 'Testing dataset Accuracy')\n",
    "# plt.plot(neighbors, train_accuracy, label = 'Training dataset Accuracy')\n",
    " \n",
    "# plt.legend()\n",
    "# plt.xlabel('n_neighbors')\n",
    "# plt.ylabel('Accuracy')\n",
    "\n",
    "y_pred2=knn.predict(X_test)\n",
    "\n",
    "knn.score(X_test,y_pred2)"
   ]
  },
  {
   "cell_type": "code",
   "execution_count": 147,
   "id": "882c7a25",
   "metadata": {},
   "outputs": [
    {
     "data": {
      "text/plain": [
       "0.9583333333333334"
      ]
     },
     "execution_count": 147,
     "metadata": {},
     "output_type": "execute_result"
    }
   ],
   "source": [
    "knn.score(X_train,y_train)"
   ]
  },
  {
   "cell_type": "code",
   "execution_count": null,
   "id": "0b1d61c7",
   "metadata": {},
   "outputs": [],
   "source": []
  }
 ],
 "metadata": {
  "kernelspec": {
   "display_name": "Python 3",
   "language": "python",
   "name": "python3"
  },
  "language_info": {
   "codemirror_mode": {
    "name": "ipython",
    "version": 3
   },
   "file_extension": ".py",
   "mimetype": "text/x-python",
   "name": "python",
   "nbconvert_exporter": "python",
   "pygments_lexer": "ipython3",
   "version": "3.8.8"
  }
 },
 "nbformat": 4,
 "nbformat_minor": 5
}
