{
 "cells": [
  {
   "cell_type": "code",
   "execution_count": 143,
   "id": "f2ab9dd3",
   "metadata": {},
   "outputs": [],
   "source": [
    "import pandas as pd\n",
    "from sklearn.preprocessing import LabelEncoder\n",
    "from sklearn import tree\n",
    "model=tree.DecisionTreeClassifier()\n",
    "\n",
    "df=pd.read_csv(r\"C:\\Users\\Imran\\OneDrive\\Desktop\\new dataset\\MergedDataset.csv\")\n",
    "le_Season=LabelEncoder()\n",
    "le_Soil=LabelEncoder()\n",
    "le_Name=LabelEncoder()\n",
    "df[\"Season_n\"]=le_Season.fit_transform(df[\"Season\"])\n",
    "df[\"Name_n\"]=le_Name.fit_transform(df[\"Name\"])\n",
    "df[\"Soil_n\"]=le_Soil.fit_transform(df[\"Soil\"])\n",
    "inputs=df.drop([\"Name_n\",\"Name\",\"Season\",\"Soil\"],axis=\"columns\")\n",
    "target=df[\"Name_n\"]\n"
   ]
  },
  {
   "cell_type": "code",
   "execution_count": 135,
   "id": "2394ab28",
   "metadata": {},
   "outputs": [
    {
     "data": {
      "text/plain": [
       "DecisionTreeClassifier()"
      ]
     },
     "execution_count": 135,
     "metadata": {},
     "output_type": "execute_result"
    }
   ],
   "source": [
    "from sklearn.model_selection import train_test_split\n",
    "inputs_train,inputs_test,target_train,target_test=train_test_split(inputs,target,test_size=0.3)\n",
    "model.fit(inputs,target)"
   ]
  },
  {
   "cell_type": "code",
   "execution_count": 136,
   "id": "e72185c3",
   "metadata": {},
   "outputs": [
    {
     "data": {
      "text/plain": [
       "0.9938837920489296"
      ]
     },
     "execution_count": 136,
     "metadata": {},
     "output_type": "execute_result"
    }
   ],
   "source": [
    "model.score(inputs,target)"
   ]
  },
  {
   "cell_type": "code",
   "execution_count": 137,
   "id": "a4374ed5",
   "metadata": {},
   "outputs": [
    {
     "data": {
      "text/plain": [
       "0.0"
      ]
     },
     "execution_count": 137,
     "metadata": {},
     "output_type": "execute_result"
    }
   ],
   "source": [
    "type_plant=[\"Flower\",\"Fruit\",\"Herb\",\"Vegetable\"]\n",
    "\n",
    "plant=model.score([[23,50,60,80,10,2]],[1])\n",
    "print()"
   ]
  },
  {
   "cell_type": "code",
   "execution_count": null,
   "id": "04cb43fb",
   "metadata": {},
   "outputs": [],
   "source": [
    "MinTemp=int(input(\"Enter minimum temperature :\"))\n",
    "MaxTemp=int(input(\"Enter maximum temperature :\"))\n",
    "MinHumid=int(input(\"Enter minimum humidity :\"))\n",
    "MaxHumid=int(input(\"Enter maximum humidity :\"))\n",
    "Season=input(\"Enter the season:\")\n",
    "Season=Season.lower()\n",
    "s=0\n",
    "if Season==\"autumn\":s=0\n",
    "elif Season==\"common\":s=1\n",
    "elif Season==\"fall\":s=2  \n",
    "elif Season==\"monsoon\":s=3   \n",
    "elif Season==\"rainy\":s=4  \n",
    "elif Season==\"spring\":s=5\n",
    "elif Season==\"summer\":s=6\n",
    "elif Season==\"winter\":s=7\n",
    "else:print(\"Please check the spelling\")\n",
    "Soil=input(\"Enter the soil:\")\n",
    "Soil=Soil.lower()\n",
    "st=0\n",
    "if Soil==\"black\":st=0 \n",
    "elif Soil==\"blue\":st=1\n",
    "elif Soil==\"brown\":st=2\n",
    "elif Soil==\"dark black\":st=3\n",
    "elif Soil==\"dark brown\":st=4\n",
    "elif Soil==\"light black\":st=5\n",
    "elif Soil==\"light brown\":st=6\n",
    "elif Soil==\"light grey\":st=7\n",
    "elif Soil==\"light red\":st=8\n",
    "elif Soil==\"light yellow\":st=9\n",
    "elif Soil==\"loamy\":st=10\n",
    "elif Soil==\"red\":st=11\n",
    "elif Soil==\"reddish\":st=12\n",
    "elif Soil==\"reddish brown\":st=13\n",
    "elif Soil==\"sandy\":st=14\n",
    "elif Soil==\"yellow\":st=15\n",
    "else:print(\"Enter proper soil type\")\n",
    "k=model.predict([[MinTemp,MaxTemp,MinHumid,MaxHumid,s,st]])\n",
    "if k==0:print(\"Flower\")\n",
    "elif k==1:print(\"Fruit\")\n",
    "elif k==2:print(\"Herb\")\n",
    "elif k==3:print(\"Vegetable\")\n",
    "else:print(\"Error\")"
   ]
  },
  {
   "cell_type": "code",
   "execution_count": null,
   "id": "d462d5a2",
   "metadata": {},
   "outputs": [],
   "source": []
  }
 ],
 "metadata": {
  "kernelspec": {
   "display_name": "Python 3",
   "language": "python",
   "name": "python3"
  },
  "language_info": {
   "codemirror_mode": {
    "name": "ipython",
    "version": 3
   },
   "file_extension": ".py",
   "mimetype": "text/x-python",
   "name": "python",
   "nbconvert_exporter": "python",
   "pygments_lexer": "ipython3",
   "version": "3.8.8"
  }
 },
 "nbformat": 4,
 "nbformat_minor": 5
}
