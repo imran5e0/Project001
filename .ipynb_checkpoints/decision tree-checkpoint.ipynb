{
 "cells": [
  {
   "cell_type": "code",
   "execution_count": 17,
   "id": "f2ab9dd3",
   "metadata": {},
   "outputs": [],
   "source": [
    "import pandas as pd\n",
    "from sklearn.preprocessing import LabelEncoder\n",
    "from sklearn import tree\n",
    "model=tree.DecisionTreeClassifier()\n",
    "\n",
    "df=pd.read_csv(r\"C:\\Users\\Imran\\OneDrive\\Desktop\\new dataset\\MergedDataset.csv\")\n",
    "le_Season=LabelEncoder()\n",
    "le_Soil=LabelEncoder()\n",
    "le_Name=LabelEncoder()\n",
    "df[\"Season_n\"]=le_Season.fit_transform(df[\"Season\"])\n",
    "df[\"Name_n\"]=le_Name.fit_transform(df[\"Name\"])\n",
    "df[\"Soil_n\"]=le_Soil.fit_transform(df[\"Soil\"])\n",
    "inputs=df.drop([\"Name_n\",\"Name\",\"Season\",\"Soil\"],axis=\"columns\")\n",
    "target=df[\"Name_n\"]\n"
   ]
  },
  {
   "cell_type": "code",
   "execution_count": 18,
   "id": "2394ab28",
   "metadata": {},
   "outputs": [
    {
     "data": {
      "text/plain": [
       "DecisionTreeClassifier()"
      ]
     },
     "execution_count": 18,
     "metadata": {},
     "output_type": "execute_result"
    }
   ],
   "source": [
    "from sklearn.model_selection import train_test_split\n",
    "inputs_train,inputs_test,target_train,target_test=train_test_split(inputs,target,test_size=0.7)\n",
    "model.fit(inputs,target)"
   ]
  },
  {
   "cell_type": "code",
   "execution_count": 19,
   "id": "e72185c3",
   "metadata": {},
   "outputs": [
    {
     "data": {
      "text/plain": [
       "0.9938837920489296"
      ]
     },
     "execution_count": 19,
     "metadata": {},
     "output_type": "execute_result"
    }
   ],
   "source": [
    "model.score(inputs,target)"
   ]
  },
  {
   "cell_type": "code",
   "execution_count": 20,
   "id": "a4374ed5",
   "metadata": {},
   "outputs": [
    {
     "name": "stdout",
     "output_type": "stream",
     "text": [
      "0.0\n"
     ]
    }
   ],
   "source": [
    "type_plant=[\"Flower\",\"Fruit\",\"Herb\",\"Vegetable\"]\n",
    "\n",
    "plant=model.score([[23,50,60,80,10,2]],[1])\n",
    "print(plant)"
   ]
  },
  {
   "cell_type": "code",
   "execution_count": 29,
   "id": "04cb43fb",
   "metadata": {},
   "outputs": [
    {
     "name": "stdout",
     "output_type": "stream",
     "text": [
      "Enter minimum temperature :16\n",
      "Enter maximum temperature :23\n",
      "Enter minimum humidity :85\n",
      "Enter maximum humidity :90\n",
      "Enter the season:winter\n",
      "Enter the soil:black\n",
      "Flower\n",
      "Do you wish to continue: yes/no\n",
      "yes\n",
      "Type of plant:flower\n",
      "1:classifcation using name and output is required conditions for that plant\n",
      "2:classification using season and output is ideal plants for that season\n",
      "3:classification using name,temperature,humidity,soil and output is either yes or no\n",
      "4:classification using Temperature and Humidity,name and soil are outputs\n",
      "choose one of the options (1/2/3/4): 1\n",
      "Enter Name of the plant:rose\n",
      "name: Rose\n",
      " season :rainy\n",
      " Minimum Temperature :22^c\n",
      " Maximum Temperature :32^c\n",
      " Minimum Humidity :60%\n",
      " Maximum Humidity :75%\n",
      " Soil :black\n",
      "Try another plant 😊👍\n"
     ]
    }
   ],
   "source": [
    "MinTemp=int(input(\"Enter minimum temperature :\"))\n",
    "MaxTemp=int(input(\"Enter maximum temperature :\"))\n",
    "MinHumid=int(input(\"Enter minimum humidity :\"))\n",
    "MaxHumid=int(input(\"Enter maximum humidity :\"))\n",
    "Season=input(\"Enter the season:\")\n",
    "Season=Season.lower()\n",
    "s=0\n",
    "if Season==\"autumn\":s=0\n",
    "elif Season==\"common\":s=1\n",
    "elif Season==\"fall\":s=2  \n",
    "elif Season==\"monsoon\":s=3   \n",
    "elif Season==\"rainy\":s=4  \n",
    "elif Season==\"spring\":s=5\n",
    "elif Season==\"summer\":s=6\n",
    "elif Season==\"winter\":s=7\n",
    "else:print(\"Please check the spelling\")\n",
    "Soil=input(\"Enter the soil:\")\n",
    "Soil=Soil.lower()\n",
    "st=0\n",
    "if Soil==\"black\":st=0 \n",
    "elif Soil==\"blue\":st=1\n",
    "elif Soil==\"brown\":st=2\n",
    "elif Soil==\"dark black\":st=3\n",
    "elif Soil==\"dark brown\":st=4\n",
    "elif Soil==\"light black\":st=5\n",
    "elif Soil==\"light brown\":st=6\n",
    "elif Soil==\"light grey\":st=7\n",
    "elif Soil==\"light red\":st=8\n",
    "elif Soil==\"light yellow\":st=9\n",
    "elif Soil==\"loamy\":st=10\n",
    "elif Soil==\"red\":st=11\n",
    "elif Soil==\"reddish\":st=12\n",
    "elif Soil==\"reddish brown\":st=13\n",
    "elif Soil==\"sandy\":st=14\n",
    "elif Soil==\"yellow\":st=15\n",
    "else:print(\"Enter proper soil type\")\n",
    "k=model.predict([[MinTemp,MaxTemp,MinHumid,MaxHumid,s,st]])\n",
    "if k==0:print(\"Flower\")\n",
    "elif k==1:print(\"Fruit\")\n",
    "elif k==2:print(\"Herb\")\n",
    "elif k==3:print(\"Vegetable\")\n",
    "else:print(\"Error\")\n",
    "print(\"Do you wish to continue: yes/no\")\n",
    "y=input()\n",
    "y=y.lower()\n",
    "if y==\"yes\":\n",
    "    import pandas as pd\n",
    "\n",
    "    #classification using name of the plant and displaying required conditions to grow that plant.\n",
    "    def classification_using_name(name,dataset):\n",
    "        name=name[0].upper()+name[1:].lower()\n",
    "        for i in range(len(dataset)):\n",
    "            if name==dataset.Name[i]:\n",
    "                print(\"name: {}\\n season :{}\\n Minimum Temperature :{}^c\\n Maximum Temperature :{}^c\\n Minimum Humidity :{}%\\n Maximum Humidity :{}%\\n Soil :{}\"\n",
    "             .format(name,dataset.Season[i],dataset.MinTemp[i],dataset.MaxTemp[i],dataset.Minhumid[i],dataset.Maxhumid[i],dataset.Soil[i]))\n",
    "\n",
    "        else:\n",
    "            print(\"Try another plant 😊👍\")\n",
    "\n",
    "    #classfication using season and displaying all the possible growing plants in that particular season. \n",
    "    def classification_using_S(season,dataset):\n",
    "        print(\"Choose one of the following plants to opt in:\")\n",
    "        for i in range(len(dataset)):\n",
    "            if season==dataset.Season[i]:\n",
    "                print(dataset.Name[i]) \n",
    "        else:\n",
    "            print(\"Invalid Entry\")\n",
    "\n",
    "    #Classification Function using label,temperature,humidity,soil parameters and concluding with yes or no.\n",
    "    def plant_classification_using_LTHS(Label,Temperature,Humidity,soil,dataset):\n",
    "        Res=[]\n",
    "        print(Label)\n",
    "        for i in range(len(dataset)):\n",
    "            if(Label in dataset.Name[i]):\n",
    "                Res.append(\"Y\")\n",
    "                if Temperature>=int(dataset.MinTemp[i]) and Temperature<=int(dataset.MaxTemp[i]):\n",
    "                    Res.append(\"Y\")\n",
    "                    if  Humidity>=int(dataset.Minhumid[i]) and Humidity<=int(dataset.Maxhumid[i]):\n",
    "                        Res.append(\"Y\")\n",
    "                        if(soil==dataset.Soil[i]):\n",
    "                            Res.append(\"Y\")\n",
    "        #if any of the above cases fail then it will append \"N\"                           \n",
    "        else:\n",
    "            Res.append(\"N\")\n",
    "        #conditional based classification\n",
    "        if(Res.count(\"Y\")>=4):\n",
    "            print(\"Yes you can this {}.The temperature {}^c and humidity {}% are in the range.\".format(Label,Temperature,Humidity))\n",
    "\n",
    "        else:\n",
    "            print(\"No choose some other plant,the conditions you inputs are not the best to opt this {} plant.\".format(Label))\n",
    "\n",
    "\n",
    "    #classification using Temperature and Humidity which is area specific plant recomendation\n",
    "    def plant_classification_using_TH(Temperature,Humidity,dataset):\n",
    "        for i in range(len(dataset)):\n",
    "            if Temperature>=dataset.MinTemp[i] and Temperature<=dataset.MaxTemp[i]:\n",
    "                if Humidity>=dataset.Minhumid[i] and Humidity<=dataset.Maxhumid[i]:\n",
    "                    print(\"plant :{}\\t\\t\\t soil :{}\".format(dataset.Name[i],dataset.Soil[i]))\n",
    "            \n",
    "\n",
    "\n",
    "    #classifying inputs based on user choice to call the respective functions for classification\n",
    "    def option_fun(c):\n",
    "        if str(c)==\"1\":\n",
    "            name=input(\"Enter Name of the plant:\")\n",
    "            classification_using_name(name,dataset)\n",
    "        elif str(c)==\"2\":\n",
    "            season=input(\"Enter Name of the season: \")\n",
    "            season=season.lower()\n",
    "            classification_using_S(season,dataset)\n",
    "        elif str(c)==\"3\":\n",
    "            label=input(\"Enter the Plant Name: \")\n",
    "            Temperature=int(input(\"Enter the Average Temperature of your locality: \"))\n",
    "            Humidity=int(input(\"Enter the Average Humidity of your locality: \"))\n",
    "            soil=input(\"Enter the soil type do you check in: \")\n",
    "            soil=soil.lower()#case conversion of the soil to ease of searching in dataset.\n",
    "            Label=label[0].upper()+label[1::].lower()#string manipulation in accordance with name of dataset\n",
    "            #plant_classification function calling using following parameters\n",
    "            plant_classification_using_LTHS(Label,Temperature,Humidity,soil,dataset)\n",
    "        elif str(c)==\"4\":\n",
    "            Temperature=int(input(\"Enter the temperature of your locality: \"))\n",
    "            Humidity=int(input(\"Enter the humidity of your locality: \"))\n",
    "            plant_classification_using_TH(Temperature,Humidity,dataset)\n",
    "        else:\n",
    "            print(\"Enter a valid entry\")\n",
    "\n",
    "    #ask for plant category like fruit,vegetable,herb,flower      \n",
    "    n=input(\"Type of plant:\")\n",
    "    n=n.lower() \n",
    "    #explaining the user about which type of classification are behind the options 1,2,3,4.\n",
    "    print(\"1:classifcation using name and output is required conditions for that plant\")\n",
    "    print(\"2:classification using season and output is ideal plants for that season\")\n",
    "    print(\"3:classification using name,temperature,humidity,soil and output is either yes or no\")\n",
    "    print(\"4:classification using Temperature and Humidity,name and soil are outputs\")\n",
    "    c=input(\"choose one of the options (1/2/3/4): \")\n",
    "\n",
    "\n",
    "    #conditonal based dataset training\n",
    "    if n==\"herb\":\n",
    "        dataset=pd.read_csv(r\"C:\\Users\\Imran\\OneDrive\\Desktop\\new dataset\\HerbsDataset.csv\")\n",
    "        option_fun(c)\n",
    "    elif n==\"vegetable\":\n",
    "        dataset=pd.read_csv(r\"C:\\Users\\Imran\\OneDrive\\Desktop\\new dataset\\VegetablesDataset.csv\")\n",
    "        option_fun(c)\n",
    "    elif n==\"fruit\":\n",
    "        dataset=pd.read_csv(r\"C:\\Users\\Imran\\OneDrive\\Desktop\\new dataset\\FruitsDataset.csv\")\n",
    "        option_fun(c)\n",
    "    elif n==\"flower\":\n",
    "        dataset=pd.read_csv(r\"C:\\Users\\Imran\\OneDrive\\Desktop\\new dataset\\FlowersDataset.csv\")\n",
    "        option_fun(c)\n",
    "    else:\n",
    "        print(\"valid type of plant\")\n",
    "else:\n",
    "    print(\"Thank You for your time❤️\")\n",
    "\n"
   ]
  },
  {
   "cell_type": "code",
   "execution_count": null,
   "id": "d462d5a2",
   "metadata": {},
   "outputs": [],
   "source": []
  }
 ],
 "metadata": {
  "kernelspec": {
   "display_name": "Python 3",
   "language": "python",
   "name": "python3"
  },
  "language_info": {
   "codemirror_mode": {
    "name": "ipython",
    "version": 3
   },
   "file_extension": ".py",
   "mimetype": "text/x-python",
   "name": "python",
   "nbconvert_exporter": "python",
   "pygments_lexer": "ipython3",
   "version": "3.8.8"
  }
 },
 "nbformat": 4,
 "nbformat_minor": 5
}
